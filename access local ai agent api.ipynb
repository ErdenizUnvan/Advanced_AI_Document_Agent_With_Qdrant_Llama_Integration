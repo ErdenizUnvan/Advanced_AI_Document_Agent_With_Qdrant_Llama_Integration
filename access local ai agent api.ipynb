{
 "cells": [
  {
   "cell_type": "code",
   "execution_count": 1,
   "id": "4a96947f",
   "metadata": {},
   "outputs": [
    {
     "name": "stdout",
     "output_type": "stream",
     "text": [
      "{'output': {'response': 'Nestlé focuses on Fixed Pay, Variable Pay, Benefits, Personal Growth and Development, and Work Life Environment as key elements that define Total Rewards.', 'source_nodes': [{'node': {'id_': 'd5ba3fb5-8482-4a30-9960-77fa83b0bc96', 'embedding': None, 'extra_info': {'page_label': '5', 'file_name': '1728286846_the_nestle_hr_policy_pdf_2012.pdf'}, 'excluded_embed_metadata_keys': [], 'excluded_llm_metadata_keys': [], 'relationships': {'1': {'node_id': '60063acb-57f3-4de2-a634-2fac662ed857', 'node_type': '4', 'metadata': {'page_label': '5', 'file_name': '1728286846_the_nestle_hr_policy_pdf_2012.pdf'}, 'hash': '360e497b8cc4a512322d09c5c0e33ef7c17844bba9e017673436c96378b49c96', 'class_name': 'RelatedNodeInfo'}}, 'metadata_template': '{key}: {value}', 'metadata_separator': '\\n', 'text': 'The Nestlé Human Resources Policy\\n3\\n Total rewards\\nAttracting new hires and keeping current \\nemployees engaged is not only about \\nremuneration and benefits based on solid \\nperformance. It is also about the hard earned \\nvalue and trust that our name brings to those \\nwho work with us; the relationships with our line \\nmanagers and fellow workers; recognition and \\nexperiences enjoyed while working for a diverse \\nglobal company; and possibilities to learn and \\ngrow. These are as a whole, the Total Rewards we \\nreceive.\\nNestlé, therefore, focuses on Fixed Pay, \\nVariable Pay, Benefits, Personal Growth and \\nDevelopment and Work Life Environment as the \\nkey elements that define Total Rewards. In the \\nspirit of developing a high performance culture, \\nthose elements need to correspond to what is \\nvalued by employees in each and every market, \\nand which demonstrate how Nestlé is committed \\nto giving each employee the opportunity to grow, \\nevolve and contribute.\\nNestlé Total Rewards programmes must be \\nestablished within the social and legal framework \\nof each country, and with respect to applicable \\ncollective agreements. \\nIt is the responsibility of each manager to \\npropose the remuneration of their employees \\nwithin the framework of Company policy. \\nSufficient time should be spent with each \\nemployee to explain her or his specific situation \\nin terms of remuneration and benefits, if needed \\nwith the support of HR management, in order to \\ncommunicate properly, clearly and with sufficient \\ntransparency.\\nCorporate policy: \\nNestlé Total Rewards Policy\\nWe are committed to providing our employees all \\nover the world with good working conditions, a \\nsafe and healthy work environment, and flexible \\nemployment possibilities that support a better \\nbalance of private and professional life consistent \\nwith our ambition as a leading Nutrition, Health \\nand Wellness Company.\\nAs such, we provide flexible working \\nconditions whenever possible and encourage our \\nemployees to have outside interests especially \\ncommunity involvement. \\nThose with line management responsibilities \\nare required to take personal ownership of safety \\nand health within their area of responsibility and \\nare encouraged to develop their capability in this \\narea.\\nNestlé’s commitment however goes beyond \\nits own employees. We care about all people \\nworking inside or outside our premises under \\ncontractual obligations with service providers \\nand we insist that they also take steps so that \\nadequate working conditions are made available \\nto them.\\nWe believe that it is essential to build a \\nrelationship based on trust and respect of \\nemployees at all levels. We do not tolerate any \\nform of harassment or discrimination.\\nTherefore, managers are committed to build \\nand sustain, with their teams, an environment \\nof mutual trust. HR ensures that a respectful \\ndialogue is present and the voice of the \\nemployees is heard.\\nCorporate policy: \\nPolicy on Conditions of Work and Employment\\n Employment and working conditions', 'mimetype': 'text/plain', 'start_char_idx': 0, 'end_char_idx': 3004, 'metadata_seperator': '\\n', 'text_template': '{metadata_str}\\n\\n{content}', 'class_name': 'TextNode'}, 'score': 0.8266146, 'class_name': 'NodeWithScore'}], 'metadata': {'d5ba3fb5-8482-4a30-9960-77fa83b0bc96': {'page_label': '5', 'file_name': '1728286846_the_nestle_hr_policy_pdf_2012.pdf'}}}}\n"
     ]
    }
   ],
   "source": [
    "#rag_service.py\n",
    "import requests\n",
    "\n",
    "url = \"http://127.0.0.1:8000/predict\"\n",
    "query = {\"query\": \"What is Nestlé's policy on employee rewards?\"}\n",
    "\n",
    "response = requests.post(url, json=query)\n",
    "print(response.json())\n"
   ]
  },
  {
   "cell_type": "code",
   "execution_count": 4,
   "id": "5052a5ff",
   "metadata": {},
   "outputs": [
    {
     "name": "stdout",
     "output_type": "stream",
     "text": [
      "Nestlé focuses on Fixed Pay, Variable Pay, Benefits, Personal Growth and Development, and Work Life Environment as key elements that define Total Rewards.\n"
     ]
    }
   ],
   "source": [
    "#rag_service.py\n",
    "print(response.json()['output']['response'])"
   ]
  },
  {
   "cell_type": "code",
   "execution_count": 5,
   "id": "e8a6e490",
   "metadata": {},
   "outputs": [
    {
     "data": {
      "text/plain": [
       "{'response': 'Nestlé focuses on Fixed Pay, Variable Pay, Benefits, Personal Growth and Development, and Work Life Environment as key elements that define Total Rewards.',\n",
       " 'source_nodes': [{'node': {'id_': 'd5ba3fb5-8482-4a30-9960-77fa83b0bc96',\n",
       "    'embedding': None,\n",
       "    'extra_info': {'page_label': '5',\n",
       "     'file_name': '1728286846_the_nestle_hr_policy_pdf_2012.pdf'},\n",
       "    'excluded_embed_metadata_keys': [],\n",
       "    'excluded_llm_metadata_keys': [],\n",
       "    'relationships': {'1': {'node_id': '60063acb-57f3-4de2-a634-2fac662ed857',\n",
       "      'node_type': '4',\n",
       "      'metadata': {'page_label': '5',\n",
       "       'file_name': '1728286846_the_nestle_hr_policy_pdf_2012.pdf'},\n",
       "      'hash': '360e497b8cc4a512322d09c5c0e33ef7c17844bba9e017673436c96378b49c96',\n",
       "      'class_name': 'RelatedNodeInfo'}},\n",
       "    'metadata_template': '{key}: {value}',\n",
       "    'metadata_separator': '\\n',\n",
       "    'text': 'The Nestlé Human Resources Policy\\n3\\n Total rewards\\nAttracting new hires and keeping current \\nemployees engaged is not only about \\nremuneration and benefits based on solid \\nperformance. It is also about the hard earned \\nvalue and trust that our name brings to those \\nwho work with us; the relationships with our line \\nmanagers and fellow workers; recognition and \\nexperiences enjoyed while working for a diverse \\nglobal company; and possibilities to learn and \\ngrow. These are as a whole, the Total Rewards we \\nreceive.\\nNestlé, therefore, focuses on Fixed Pay, \\nVariable Pay, Benefits, Personal Growth and \\nDevelopment and Work Life Environment as the \\nkey elements that define Total Rewards. In the \\nspirit of developing a high performance culture, \\nthose elements need to correspond to what is \\nvalued by employees in each and every market, \\nand which demonstrate how Nestlé is committed \\nto giving each employee the opportunity to grow, \\nevolve and contribute.\\nNestlé Total Rewards programmes must be \\nestablished within the social and legal framework \\nof each country, and with respect to applicable \\ncollective agreements. \\nIt is the responsibility of each manager to \\npropose the remuneration of their employees \\nwithin the framework of Company policy. \\nSufficient time should be spent with each \\nemployee to explain her or his specific situation \\nin terms of remuneration and benefits, if needed \\nwith the support of HR management, in order to \\ncommunicate properly, clearly and with sufficient \\ntransparency.\\nCorporate policy: \\nNestlé Total Rewards Policy\\nWe are committed to providing our employees all \\nover the world with good working conditions, a \\nsafe and healthy work environment, and flexible \\nemployment possibilities that support a better \\nbalance of private and professional life consistent \\nwith our ambition as a leading Nutrition, Health \\nand Wellness Company.\\nAs such, we provide flexible working \\nconditions whenever possible and encourage our \\nemployees to have outside interests especially \\ncommunity involvement. \\nThose with line management responsibilities \\nare required to take personal ownership of safety \\nand health within their area of responsibility and \\nare encouraged to develop their capability in this \\narea.\\nNestlé’s commitment however goes beyond \\nits own employees. We care about all people \\nworking inside or outside our premises under \\ncontractual obligations with service providers \\nand we insist that they also take steps so that \\nadequate working conditions are made available \\nto them.\\nWe believe that it is essential to build a \\nrelationship based on trust and respect of \\nemployees at all levels. We do not tolerate any \\nform of harassment or discrimination.\\nTherefore, managers are committed to build \\nand sustain, with their teams, an environment \\nof mutual trust. HR ensures that a respectful \\ndialogue is present and the voice of the \\nemployees is heard.\\nCorporate policy: \\nPolicy on Conditions of Work and Employment\\n Employment and working conditions',\n",
       "    'mimetype': 'text/plain',\n",
       "    'start_char_idx': 0,\n",
       "    'end_char_idx': 3004,\n",
       "    'metadata_seperator': '\\n',\n",
       "    'text_template': '{metadata_str}\\n\\n{content}',\n",
       "    'class_name': 'TextNode'},\n",
       "   'score': 0.8266146,\n",
       "   'class_name': 'NodeWithScore'}],\n",
       " 'metadata': {'d5ba3fb5-8482-4a30-9960-77fa83b0bc96': {'page_label': '5',\n",
       "   'file_name': '1728286846_the_nestle_hr_policy_pdf_2012.pdf'}}}"
      ]
     },
     "execution_count": 5,
     "metadata": {},
     "output_type": "execute_result"
    }
   ],
   "source": [
    "#rag_service.py\n",
    "response.json()['output']"
   ]
  },
  {
   "cell_type": "code",
   "execution_count": 7,
   "id": "65f11887",
   "metadata": {},
   "outputs": [
    {
     "data": {
      "text/plain": [
       "dict_keys(['response', 'source_nodes', 'metadata'])"
      ]
     },
     "execution_count": 7,
     "metadata": {},
     "output_type": "execute_result"
    }
   ],
   "source": [
    "#rag_service.py\n",
    "response.json()['output'].keys()"
   ]
  },
  {
   "cell_type": "code",
   "execution_count": 8,
   "id": "62f1acf6",
   "metadata": {},
   "outputs": [
    {
     "data": {
      "text/plain": [
       "[{'node': {'id_': 'd5ba3fb5-8482-4a30-9960-77fa83b0bc96',\n",
       "   'embedding': None,\n",
       "   'extra_info': {'page_label': '5',\n",
       "    'file_name': '1728286846_the_nestle_hr_policy_pdf_2012.pdf'},\n",
       "   'excluded_embed_metadata_keys': [],\n",
       "   'excluded_llm_metadata_keys': [],\n",
       "   'relationships': {'1': {'node_id': '60063acb-57f3-4de2-a634-2fac662ed857',\n",
       "     'node_type': '4',\n",
       "     'metadata': {'page_label': '5',\n",
       "      'file_name': '1728286846_the_nestle_hr_policy_pdf_2012.pdf'},\n",
       "     'hash': '360e497b8cc4a512322d09c5c0e33ef7c17844bba9e017673436c96378b49c96',\n",
       "     'class_name': 'RelatedNodeInfo'}},\n",
       "   'metadata_template': '{key}: {value}',\n",
       "   'metadata_separator': '\\n',\n",
       "   'text': 'The Nestlé Human Resources Policy\\n3\\n Total rewards\\nAttracting new hires and keeping current \\nemployees engaged is not only about \\nremuneration and benefits based on solid \\nperformance. It is also about the hard earned \\nvalue and trust that our name brings to those \\nwho work with us; the relationships with our line \\nmanagers and fellow workers; recognition and \\nexperiences enjoyed while working for a diverse \\nglobal company; and possibilities to learn and \\ngrow. These are as a whole, the Total Rewards we \\nreceive.\\nNestlé, therefore, focuses on Fixed Pay, \\nVariable Pay, Benefits, Personal Growth and \\nDevelopment and Work Life Environment as the \\nkey elements that define Total Rewards. In the \\nspirit of developing a high performance culture, \\nthose elements need to correspond to what is \\nvalued by employees in each and every market, \\nand which demonstrate how Nestlé is committed \\nto giving each employee the opportunity to grow, \\nevolve and contribute.\\nNestlé Total Rewards programmes must be \\nestablished within the social and legal framework \\nof each country, and with respect to applicable \\ncollective agreements. \\nIt is the responsibility of each manager to \\npropose the remuneration of their employees \\nwithin the framework of Company policy. \\nSufficient time should be spent with each \\nemployee to explain her or his specific situation \\nin terms of remuneration and benefits, if needed \\nwith the support of HR management, in order to \\ncommunicate properly, clearly and with sufficient \\ntransparency.\\nCorporate policy: \\nNestlé Total Rewards Policy\\nWe are committed to providing our employees all \\nover the world with good working conditions, a \\nsafe and healthy work environment, and flexible \\nemployment possibilities that support a better \\nbalance of private and professional life consistent \\nwith our ambition as a leading Nutrition, Health \\nand Wellness Company.\\nAs such, we provide flexible working \\nconditions whenever possible and encourage our \\nemployees to have outside interests especially \\ncommunity involvement. \\nThose with line management responsibilities \\nare required to take personal ownership of safety \\nand health within their area of responsibility and \\nare encouraged to develop their capability in this \\narea.\\nNestlé’s commitment however goes beyond \\nits own employees. We care about all people \\nworking inside or outside our premises under \\ncontractual obligations with service providers \\nand we insist that they also take steps so that \\nadequate working conditions are made available \\nto them.\\nWe believe that it is essential to build a \\nrelationship based on trust and respect of \\nemployees at all levels. We do not tolerate any \\nform of harassment or discrimination.\\nTherefore, managers are committed to build \\nand sustain, with their teams, an environment \\nof mutual trust. HR ensures that a respectful \\ndialogue is present and the voice of the \\nemployees is heard.\\nCorporate policy: \\nPolicy on Conditions of Work and Employment\\n Employment and working conditions',\n",
       "   'mimetype': 'text/plain',\n",
       "   'start_char_idx': 0,\n",
       "   'end_char_idx': 3004,\n",
       "   'metadata_seperator': '\\n',\n",
       "   'text_template': '{metadata_str}\\n\\n{content}',\n",
       "   'class_name': 'TextNode'},\n",
       "  'score': 0.8266146,\n",
       "  'class_name': 'NodeWithScore'}]"
      ]
     },
     "execution_count": 8,
     "metadata": {},
     "output_type": "execute_result"
    }
   ],
   "source": [
    "#rag_service.py\n",
    "response.json()['output']['source_nodes']"
   ]
  },
  {
   "cell_type": "code",
   "execution_count": 10,
   "id": "fe8b8bad",
   "metadata": {},
   "outputs": [
    {
     "data": {
      "text/plain": [
       "{'node': {'id_': 'd5ba3fb5-8482-4a30-9960-77fa83b0bc96',\n",
       "  'embedding': None,\n",
       "  'extra_info': {'page_label': '5',\n",
       "   'file_name': '1728286846_the_nestle_hr_policy_pdf_2012.pdf'},\n",
       "  'excluded_embed_metadata_keys': [],\n",
       "  'excluded_llm_metadata_keys': [],\n",
       "  'relationships': {'1': {'node_id': '60063acb-57f3-4de2-a634-2fac662ed857',\n",
       "    'node_type': '4',\n",
       "    'metadata': {'page_label': '5',\n",
       "     'file_name': '1728286846_the_nestle_hr_policy_pdf_2012.pdf'},\n",
       "    'hash': '360e497b8cc4a512322d09c5c0e33ef7c17844bba9e017673436c96378b49c96',\n",
       "    'class_name': 'RelatedNodeInfo'}},\n",
       "  'metadata_template': '{key}: {value}',\n",
       "  'metadata_separator': '\\n',\n",
       "  'text': 'The Nestlé Human Resources Policy\\n3\\n Total rewards\\nAttracting new hires and keeping current \\nemployees engaged is not only about \\nremuneration and benefits based on solid \\nperformance. It is also about the hard earned \\nvalue and trust that our name brings to those \\nwho work with us; the relationships with our line \\nmanagers and fellow workers; recognition and \\nexperiences enjoyed while working for a diverse \\nglobal company; and possibilities to learn and \\ngrow. These are as a whole, the Total Rewards we \\nreceive.\\nNestlé, therefore, focuses on Fixed Pay, \\nVariable Pay, Benefits, Personal Growth and \\nDevelopment and Work Life Environment as the \\nkey elements that define Total Rewards. In the \\nspirit of developing a high performance culture, \\nthose elements need to correspond to what is \\nvalued by employees in each and every market, \\nand which demonstrate how Nestlé is committed \\nto giving each employee the opportunity to grow, \\nevolve and contribute.\\nNestlé Total Rewards programmes must be \\nestablished within the social and legal framework \\nof each country, and with respect to applicable \\ncollective agreements. \\nIt is the responsibility of each manager to \\npropose the remuneration of their employees \\nwithin the framework of Company policy. \\nSufficient time should be spent with each \\nemployee to explain her or his specific situation \\nin terms of remuneration and benefits, if needed \\nwith the support of HR management, in order to \\ncommunicate properly, clearly and with sufficient \\ntransparency.\\nCorporate policy: \\nNestlé Total Rewards Policy\\nWe are committed to providing our employees all \\nover the world with good working conditions, a \\nsafe and healthy work environment, and flexible \\nemployment possibilities that support a better \\nbalance of private and professional life consistent \\nwith our ambition as a leading Nutrition, Health \\nand Wellness Company.\\nAs such, we provide flexible working \\nconditions whenever possible and encourage our \\nemployees to have outside interests especially \\ncommunity involvement. \\nThose with line management responsibilities \\nare required to take personal ownership of safety \\nand health within their area of responsibility and \\nare encouraged to develop their capability in this \\narea.\\nNestlé’s commitment however goes beyond \\nits own employees. We care about all people \\nworking inside or outside our premises under \\ncontractual obligations with service providers \\nand we insist that they also take steps so that \\nadequate working conditions are made available \\nto them.\\nWe believe that it is essential to build a \\nrelationship based on trust and respect of \\nemployees at all levels. We do not tolerate any \\nform of harassment or discrimination.\\nTherefore, managers are committed to build \\nand sustain, with their teams, an environment \\nof mutual trust. HR ensures that a respectful \\ndialogue is present and the voice of the \\nemployees is heard.\\nCorporate policy: \\nPolicy on Conditions of Work and Employment\\n Employment and working conditions',\n",
       "  'mimetype': 'text/plain',\n",
       "  'start_char_idx': 0,\n",
       "  'end_char_idx': 3004,\n",
       "  'metadata_seperator': '\\n',\n",
       "  'text_template': '{metadata_str}\\n\\n{content}',\n",
       "  'class_name': 'TextNode'},\n",
       " 'score': 0.8266146,\n",
       " 'class_name': 'NodeWithScore'}"
      ]
     },
     "execution_count": 10,
     "metadata": {},
     "output_type": "execute_result"
    }
   ],
   "source": [
    "#rag_service.py\n",
    "response.json()['output']['source_nodes'][0]"
   ]
  },
  {
   "cell_type": "code",
   "execution_count": 11,
   "id": "d90e0a0a",
   "metadata": {},
   "outputs": [
    {
     "data": {
      "text/plain": [
       "dict_keys(['node', 'score', 'class_name'])"
      ]
     },
     "execution_count": 11,
     "metadata": {},
     "output_type": "execute_result"
    }
   ],
   "source": [
    "#rag_service.py\n",
    "response.json()['output']['source_nodes'][0].keys()"
   ]
  },
  {
   "cell_type": "code",
   "execution_count": 12,
   "id": "e0911d85",
   "metadata": {},
   "outputs": [
    {
     "data": {
      "text/plain": [
       "{'id_': 'd5ba3fb5-8482-4a30-9960-77fa83b0bc96',\n",
       " 'embedding': None,\n",
       " 'extra_info': {'page_label': '5',\n",
       "  'file_name': '1728286846_the_nestle_hr_policy_pdf_2012.pdf'},\n",
       " 'excluded_embed_metadata_keys': [],\n",
       " 'excluded_llm_metadata_keys': [],\n",
       " 'relationships': {'1': {'node_id': '60063acb-57f3-4de2-a634-2fac662ed857',\n",
       "   'node_type': '4',\n",
       "   'metadata': {'page_label': '5',\n",
       "    'file_name': '1728286846_the_nestle_hr_policy_pdf_2012.pdf'},\n",
       "   'hash': '360e497b8cc4a512322d09c5c0e33ef7c17844bba9e017673436c96378b49c96',\n",
       "   'class_name': 'RelatedNodeInfo'}},\n",
       " 'metadata_template': '{key}: {value}',\n",
       " 'metadata_separator': '\\n',\n",
       " 'text': 'The Nestlé Human Resources Policy\\n3\\n Total rewards\\nAttracting new hires and keeping current \\nemployees engaged is not only about \\nremuneration and benefits based on solid \\nperformance. It is also about the hard earned \\nvalue and trust that our name brings to those \\nwho work with us; the relationships with our line \\nmanagers and fellow workers; recognition and \\nexperiences enjoyed while working for a diverse \\nglobal company; and possibilities to learn and \\ngrow. These are as a whole, the Total Rewards we \\nreceive.\\nNestlé, therefore, focuses on Fixed Pay, \\nVariable Pay, Benefits, Personal Growth and \\nDevelopment and Work Life Environment as the \\nkey elements that define Total Rewards. In the \\nspirit of developing a high performance culture, \\nthose elements need to correspond to what is \\nvalued by employees in each and every market, \\nand which demonstrate how Nestlé is committed \\nto giving each employee the opportunity to grow, \\nevolve and contribute.\\nNestlé Total Rewards programmes must be \\nestablished within the social and legal framework \\nof each country, and with respect to applicable \\ncollective agreements. \\nIt is the responsibility of each manager to \\npropose the remuneration of their employees \\nwithin the framework of Company policy. \\nSufficient time should be spent with each \\nemployee to explain her or his specific situation \\nin terms of remuneration and benefits, if needed \\nwith the support of HR management, in order to \\ncommunicate properly, clearly and with sufficient \\ntransparency.\\nCorporate policy: \\nNestlé Total Rewards Policy\\nWe are committed to providing our employees all \\nover the world with good working conditions, a \\nsafe and healthy work environment, and flexible \\nemployment possibilities that support a better \\nbalance of private and professional life consistent \\nwith our ambition as a leading Nutrition, Health \\nand Wellness Company.\\nAs such, we provide flexible working \\nconditions whenever possible and encourage our \\nemployees to have outside interests especially \\ncommunity involvement. \\nThose with line management responsibilities \\nare required to take personal ownership of safety \\nand health within their area of responsibility and \\nare encouraged to develop their capability in this \\narea.\\nNestlé’s commitment however goes beyond \\nits own employees. We care about all people \\nworking inside or outside our premises under \\ncontractual obligations with service providers \\nand we insist that they also take steps so that \\nadequate working conditions are made available \\nto them.\\nWe believe that it is essential to build a \\nrelationship based on trust and respect of \\nemployees at all levels. We do not tolerate any \\nform of harassment or discrimination.\\nTherefore, managers are committed to build \\nand sustain, with their teams, an environment \\nof mutual trust. HR ensures that a respectful \\ndialogue is present and the voice of the \\nemployees is heard.\\nCorporate policy: \\nPolicy on Conditions of Work and Employment\\n Employment and working conditions',\n",
       " 'mimetype': 'text/plain',\n",
       " 'start_char_idx': 0,\n",
       " 'end_char_idx': 3004,\n",
       " 'metadata_seperator': '\\n',\n",
       " 'text_template': '{metadata_str}\\n\\n{content}',\n",
       " 'class_name': 'TextNode'}"
      ]
     },
     "execution_count": 12,
     "metadata": {},
     "output_type": "execute_result"
    }
   ],
   "source": [
    "#rag_service.py\n",
    "response.json()['output']['source_nodes'][0]['node']"
   ]
  },
  {
   "cell_type": "code",
   "execution_count": 13,
   "id": "5c2f7ccc",
   "metadata": {},
   "outputs": [
    {
     "data": {
      "text/plain": [
       "dict_keys(['id_', 'embedding', 'extra_info', 'excluded_embed_metadata_keys', 'excluded_llm_metadata_keys', 'relationships', 'metadata_template', 'metadata_separator', 'text', 'mimetype', 'start_char_idx', 'end_char_idx', 'metadata_seperator', 'text_template', 'class_name'])"
      ]
     },
     "execution_count": 13,
     "metadata": {},
     "output_type": "execute_result"
    }
   ],
   "source": [
    "#rag_service.py\n",
    "response.json()['output']['source_nodes'][0]['node'].keys()"
   ]
  },
  {
   "cell_type": "code",
   "execution_count": 14,
   "id": "0b3ca594",
   "metadata": {},
   "outputs": [
    {
     "name": "stdout",
     "output_type": "stream",
     "text": [
      "The Nestlé Human Resources Policy\n",
      "3\n",
      " Total rewards\n",
      "Attracting new hires and keeping current \n",
      "employees engaged is not only about \n",
      "remuneration and benefits based on solid \n",
      "performance. It is also about the hard earned \n",
      "value and trust that our name brings to those \n",
      "who work with us; the relationships with our line \n",
      "managers and fellow workers; recognition and \n",
      "experiences enjoyed while working for a diverse \n",
      "global company; and possibilities to learn and \n",
      "grow. These are as a whole, the Total Rewards we \n",
      "receive.\n",
      "Nestlé, therefore, focuses on Fixed Pay, \n",
      "Variable Pay, Benefits, Personal Growth and \n",
      "Development and Work Life Environment as the \n",
      "key elements that define Total Rewards. In the \n",
      "spirit of developing a high performance culture, \n",
      "those elements need to correspond to what is \n",
      "valued by employees in each and every market, \n",
      "and which demonstrate how Nestlé is committed \n",
      "to giving each employee the opportunity to grow, \n",
      "evolve and contribute.\n",
      "Nestlé Total Rewards programmes must be \n",
      "established within the social and legal framework \n",
      "of each country, and with respect to applicable \n",
      "collective agreements. \n",
      "It is the responsibility of each manager to \n",
      "propose the remuneration of their employees \n",
      "within the framework of Company policy. \n",
      "Sufficient time should be spent with each \n",
      "employee to explain her or his specific situation \n",
      "in terms of remuneration and benefits, if needed \n",
      "with the support of HR management, in order to \n",
      "communicate properly, clearly and with sufficient \n",
      "transparency.\n",
      "Corporate policy: \n",
      "Nestlé Total Rewards Policy\n",
      "We are committed to providing our employees all \n",
      "over the world with good working conditions, a \n",
      "safe and healthy work environment, and flexible \n",
      "employment possibilities that support a better \n",
      "balance of private and professional life consistent \n",
      "with our ambition as a leading Nutrition, Health \n",
      "and Wellness Company.\n",
      "As such, we provide flexible working \n",
      "conditions whenever possible and encourage our \n",
      "employees to have outside interests especially \n",
      "community involvement. \n",
      "Those with line management responsibilities \n",
      "are required to take personal ownership of safety \n",
      "and health within their area of responsibility and \n",
      "are encouraged to develop their capability in this \n",
      "area.\n",
      "Nestlé’s commitment however goes beyond \n",
      "its own employees. We care about all people \n",
      "working inside or outside our premises under \n",
      "contractual obligations with service providers \n",
      "and we insist that they also take steps so that \n",
      "adequate working conditions are made available \n",
      "to them.\n",
      "We believe that it is essential to build a \n",
      "relationship based on trust and respect of \n",
      "employees at all levels. We do not tolerate any \n",
      "form of harassment or discrimination.\n",
      "Therefore, managers are committed to build \n",
      "and sustain, with their teams, an environment \n",
      "of mutual trust. HR ensures that a respectful \n",
      "dialogue is present and the voice of the \n",
      "employees is heard.\n",
      "Corporate policy: \n",
      "Policy on Conditions of Work and Employment\n",
      " Employment and working conditions\n"
     ]
    }
   ],
   "source": [
    "#rag_service.py\n",
    "print(response.json()['output']['source_nodes'][0]['node']['text'])"
   ]
  },
  {
   "cell_type": "code",
   "execution_count": null,
   "id": "bb7d6d8d",
   "metadata": {},
   "outputs": [],
   "source": [
    "#rag_service.py\n",
    "import requests\n",
    "\n",
    "question=input('')\n",
    "url = \"http://127.0.0.1:8000/predict\"\n",
    "query = {\"query\": question}\n",
    "\n",
    "response = requests.post(url, json=query)\n",
    "print(response.json()['output']['response'])"
   ]
  },
  {
   "cell_type": "code",
   "execution_count": null,
   "id": "75397f7e",
   "metadata": {},
   "outputs": [],
   "source": [
    "#What is Nestlé's policy on employee rewards?\n",
    "#What flexible working options does Nestlé provide to its employees?\n",
    "#How does Nestlé support employees in balancing their personal and professional lives?\n",
    "#What is Nestlé's policy on employee rewards?\n",
    "#How does Nestlé ensure fairness in its hiring process?\n",
    "#What are the criteria Nestlé considers when recruiting new employees?"
   ]
  },
  {
   "cell_type": "code",
   "execution_count": 2,
   "id": "dcf8af46",
   "metadata": {},
   "outputs": [
    {
     "name": "stdout",
     "output_type": "stream",
     "text": [
      "What is Nestlé's policy on employee rewards?\n",
      "Nestlé focuses on Fixed Pay, Variable Pay, Benefits, Personal Growth and Development, and Work Life Environment as the key elements that define Total Rewards. These elements need to correspond to what is valued by employees in each market and demonstrate how Nestlé is committed to giving each employee the opportunity to grow, evolve, and contribute.\n"
     ]
    }
   ],
   "source": [
    "import requests\n",
    "\n",
    "question=input('')\n",
    "url = \"http://127.0.0.1:8000/predict\"\n",
    "query = {\"query\": question}\n",
    "\n",
    "response = requests.post(url, json=query)\n",
    "print(response.json()['output']['response'])"
   ]
  },
  {
   "cell_type": "code",
   "execution_count": 1,
   "id": "e2bc36aa",
   "metadata": {},
   "outputs": [
    {
     "data": {
      "text/plain": [
       "'C:\\\\Users\\\\Dell\\\\llama3_2\\\\rag_git'"
      ]
     },
     "execution_count": 1,
     "metadata": {},
     "output_type": "execute_result"
    }
   ],
   "source": [
    "pwd"
   ]
  },
  {
   "cell_type": "code",
   "execution_count": null,
   "id": "082e38cd",
   "metadata": {},
   "outputs": [],
   "source": []
  }
 ],
 "metadata": {
  "kernelspec": {
   "display_name": "Python 3 (ipykernel)",
   "language": "python",
   "name": "python3"
  },
  "language_info": {
   "codemirror_mode": {
    "name": "ipython",
    "version": 3
   },
   "file_extension": ".py",
   "mimetype": "text/x-python",
   "name": "python",
   "nbconvert_exporter": "python",
   "pygments_lexer": "ipython3",
   "version": "3.11.10"
  }
 },
 "nbformat": 4,
 "nbformat_minor": 5
}

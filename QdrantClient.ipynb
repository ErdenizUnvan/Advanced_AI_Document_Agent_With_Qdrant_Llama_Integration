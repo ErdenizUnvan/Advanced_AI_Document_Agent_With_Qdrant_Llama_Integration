{
 "cells": [
  {
   "cell_type": "code",
   "execution_count": null,
   "id": "59d973eb",
   "metadata": {},
   "outputs": [],
   "source": [
    "!pip install qdrant_client"
   ]
  },
  {
   "cell_type": "code",
   "execution_count": null,
   "id": "35e960ae",
   "metadata": {},
   "outputs": [],
   "source": [
    "from qdrant_client import QdrantClient\n",
    "\n",
    "# Qdrant'a bağlan\n",
    "client = QdrantClient(url=\"http://192.168.56.111:6333\")\n",
    "\n",
    "# Koleksiyonların listesini al\n",
    "collections = client.get_collections()\n",
    "print(collections)"
   ]
  },
  {
   "cell_type": "code",
   "execution_count": null,
   "id": "97d8cddf",
   "metadata": {},
   "outputs": [],
   "source": []
  }
 ],
 "metadata": {
  "kernelspec": {
   "display_name": "Python 3 (ipykernel)",
   "language": "python",
   "name": "python3"
  },
  "language_info": {
   "codemirror_mode": {
    "name": "ipython",
    "version": 3
   },
   "file_extension": ".py",
   "mimetype": "text/x-python",
   "name": "python",
   "nbconvert_exporter": "python",
   "pygments_lexer": "ipython3",
   "version": "3.11.10"
  }
 },
 "nbformat": 4,
 "nbformat_minor": 5
}
